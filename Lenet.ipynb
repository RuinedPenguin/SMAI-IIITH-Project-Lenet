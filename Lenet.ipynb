{
  "nbformat": 4,
  "nbformat_minor": 0,
  "metadata": {
    "colab": {
      "name": "Lenet.ipynb",
      "provenance": [],
      "collapsed_sections": [],
      "authorship_tag": "ABX9TyNvg58pG7k/SPEImkZTsdiu",
      "include_colab_link": true
    },
    "kernelspec": {
      "name": "python3",
      "display_name": "Python 3"
    },
    "language_info": {
      "name": "python"
    }
  },
  "cells": [
    {
      "cell_type": "markdown",
      "metadata": {
        "id": "view-in-github",
        "colab_type": "text"
      },
      "source": [
        "<a href=\"https://colab.research.google.com/github/RuinedPenguin/SMAI-IIITH-Project-Lenet/blob/object-oriented-approach/Lenet.ipynb\" target=\"_parent\"><img src=\"https://colab.research.google.com/assets/colab-badge.svg\" alt=\"Open In Colab\"/></a>"
      ]
    },
    {
      "cell_type": "code",
      "metadata": {
        "id": "f4ZLz--mWKeo"
      },
      "source": [
        "import cupy as cp\n",
        "# when gpu"
      ],
      "execution_count": 23,
      "outputs": []
    },
    {
      "cell_type": "code",
      "metadata": {
        "id": "Wpl18ZkLxMln"
      },
      "source": [
        "import numpy as cp\n",
        "# when cpu"
      ],
      "execution_count": 1,
      "outputs": []
    },
    {
      "cell_type": "code",
      "metadata": {
        "id": "gIBwhswFeciT"
      },
      "source": [
        "from abc import ABC, abstractmethod"
      ],
      "execution_count": 2,
      "outputs": []
    },
    {
      "cell_type": "code",
      "metadata": {
        "id": "D4uKoBvUWXxS"
      },
      "source": [
        "# pip install zope\n",
        "# import zope.interface"
      ],
      "execution_count": 25,
      "outputs": []
    },
    {
      "cell_type": "code",
      "metadata": {
        "id": "HAYa-YVZZBgK"
      },
      "source": [
        "# cp.vstack((cp.array([[1,0,0]]).T, 1))"
      ],
      "execution_count": 27,
      "outputs": []
    },
    {
      "cell_type": "markdown",
      "metadata": {
        "id": "-uozsaFoWgLL"
      },
      "source": [
        "## **Lenet**"
      ]
    },
    {
      "cell_type": "code",
      "metadata": {
        "id": "7n3fxvn2bPe4"
      },
      "source": [
        "class Layer(ABC):\n",
        "\n",
        "  @abstractmethod\n",
        "  def initialise_weights(self, input_shape):\n",
        "    pass\n",
        "\n",
        "  @abstractmethod\n",
        "  def forward(self, x):\n",
        "    pass\n",
        "\n",
        "  @abstractmethod\n",
        "  def backward(self):\n",
        "    pass"
      ],
      "execution_count": 3,
      "outputs": []
    },
    {
      "cell_type": "code",
      "metadata": {
        "id": "59lEduBBWipM"
      },
      "source": [
        "class Conv(Layer):\n",
        "  def __init__(self, k, c_out):\n",
        "    self.k = k\n",
        "    self.c_out = c_out\n",
        "    self.kernels = []\n",
        "    # self.p = p\n",
        "    # self.s = s\n",
        "\n",
        "  def initialise_weights(self, input_shape):\n",
        "    if len(self.k) == 2:\n",
        "      h,w = self.k\n",
        "      c = 0\n",
        "    else:\n",
        "      h,w,c = self.k\n",
        "    \n",
        "    for i in range(self.c_out):\n",
        "      if (c == 0):\n",
        "        self.kernels.append(cp.random.rand(h,w))\n",
        "      else:\n",
        "        self.kernels.append(cp.random.rand(h,w,c))\n",
        "\n",
        "    return (input_shape[0] - self.k[0] + 1, \n",
        "            input_shape[1] - self.k[1] + 1, \n",
        "            self.c_out)\n",
        "\n",
        "  def forward(self, x):\n",
        "    new_h = x.shape[0] - self.k[0] + 1\n",
        "    new_w = x.shape[1] - self.k[1] + 1\n",
        "\n",
        "    # if self.c_out == 1:\n",
        "    #   return convolve(x, self.kernels[0], new_h, new_w)\n",
        "    \n",
        "    out = cp.zeros((new_h, new_w, self.c_out))\n",
        "\n",
        "    for i in range(self.c_out):\n",
        "      out[:,:,i] = convolve(x, self.kernels[i], new_h, new_w)\n",
        "\n",
        "    return out\n",
        "\n",
        "  def convolve(inp, kernel, new_h, new_w):\n",
        "    out = cp.zeros((new_h, new_w))\n",
        "\n",
        "    for i in range(new_h):\n",
        "      for j in range(new_w):\n",
        "        out[i,j] = inp[i : i +kernel.shape[0], j : j +kernel.shape[0]] * kernel\n",
        "\n",
        "    return out\n",
        "\n",
        "  def backward(self):\n",
        "    pass"
      ],
      "execution_count": 4,
      "outputs": []
    },
    {
      "cell_type": "code",
      "metadata": {
        "id": "OEXum7L6JAgO"
      },
      "source": [
        "class Pool(Layer):\n",
        "  def __init__(self, k):\n",
        "    self.k = k\n",
        "    # self.p = p\n",
        "    # self.s = s\n",
        "\n",
        "  def initialise_weights(self, input_shape):\n",
        "    if len(input_shape) == 2:\n",
        "      return (input_shape[0] // self.k, input_shape[1] // self.k)\n",
        "    \n",
        "    return (input_shape[0] // self.k, input_shape[1] // self.k, \n",
        "            input_shape[2])\n",
        "    \n",
        "\n",
        "  def forward(self, x):\n",
        "    if len(x.shape) == 2:\n",
        "      return self.pool_2d(x)\n",
        "    \n",
        "    out = cp.zeros((x.shape[0] // self.k, x.shape[1] // self.k, x.shape[2]))\n",
        "    for i in range(x.shape[2]):\n",
        "      out[:,:,i] = self.pool_2d(x[:,:,i])\n",
        "    \n",
        "    return out\n",
        "\n",
        "  def pool_2d(self, x_2d):\n",
        "    out = cp.zeros((x_2d.shape[0] // self.k, x_2d.shape[1] // self.k))\n",
        "    for i in range(out.shape[0]):\n",
        "      for j in range(out.shape[1]):\n",
        "        h = i * self.k\n",
        "        w = j * self.k\n",
        "        out[i,j] = self.pooling_function(x_2d[h:h+self.k, w:w+self.k])\n",
        "\n",
        "    return out\n",
        "\n",
        "  @abstractmethod\n",
        "  def pooling_function(self, matrix):\n",
        "    pass\n",
        "\n",
        "  def backward(self):\n",
        "    pass"
      ],
      "execution_count": 5,
      "outputs": []
    },
    {
      "cell_type": "code",
      "metadata": {
        "id": "XFQp13qq7qqg"
      },
      "source": [
        "class Subsampling(Pool):\n",
        "  def initialise_weights(self, input_shape):\n",
        "    n = 1 if len(input_shape) == 2 else input_shape[2]\n",
        "    self.w = cp.random.rand(n)\n",
        "    self.b = cp.random.rand(n)\n",
        "    print(input_shape)\n",
        "    return super().initialise_weights(input_shape)\n",
        "\n",
        "  def pooling_function(self, matrix):\n",
        "    return cp.sum(matrix)\n",
        "\n",
        "  def forward(self, x):\n",
        "    out = super().forward(x)\n",
        "\n",
        "    if len(out.shape) == 2:\n",
        "      return out * self.w[0] + self.b[0]\n",
        "    \n",
        "    for i in range(out.shape[2]):\n",
        "      out[:,:,i] = out[:,:,i] * self.w[i] + self.b[i]\n",
        "    \n",
        "    return out"
      ],
      "execution_count": 6,
      "outputs": []
    },
    {
      "cell_type": "code",
      "metadata": {
        "id": "XXVTDuEDBX4I"
      },
      "source": [
        "class MaxPool(Pool):\n",
        "  def __init__(self, k):\n",
        "    super().__init__(k)\n",
        "\n",
        "  def pooling_function(self, matrix):\n",
        "    return cp.max(matrix)"
      ],
      "execution_count": 7,
      "outputs": []
    },
    {
      "cell_type": "code",
      "metadata": {
        "id": "1tKyGdlzM7Mp"
      },
      "source": [
        "# cp.zeros((5,5,6))"
      ],
      "execution_count": 8,
      "outputs": []
    },
    {
      "cell_type": "code",
      "metadata": {
        "id": "1tSRpVpABYCr"
      },
      "source": [
        "class Flatten(Layer):\n",
        "  def initialise_weights(self, input_shape):\n",
        "    out_shape = 1\n",
        "    for i in input_shape:\n",
        "      out_shape *= i\n",
        "    return (out_shape,1)\n",
        "\n",
        "  def forward(self, x):\n",
        "    return x.reshape((-1,1))\n",
        "\n",
        "  def backward(self):\n",
        "    pass"
      ],
      "execution_count": 9,
      "outputs": []
    },
    {
      "cell_type": "code",
      "metadata": {
        "id": "MEfQLF8OwWTX"
      },
      "source": [
        "class Fully_Connected(Layer):\n",
        "  def __init__(self, units):\n",
        "    self.units = units\n",
        "    self.weights = []\n",
        "\n",
        "  def initialise_weights(self, input_shape):\n",
        "    self.weights = cp.random.rand(self.units, input_shape[0] + 1)\n",
        "    return (self.units,1)\n",
        "\n",
        "  def forward(self, x):\n",
        "    x = x.reshape((-1,1))\n",
        "    return cp.dot(weights, cp.vstack((x,1)))\n",
        "\n",
        "  def backward(self):\n",
        "    pass"
      ],
      "execution_count": 10,
      "outputs": []
    },
    {
      "cell_type": "code",
      "metadata": {
        "id": "2B2vqFRJlFOO"
      },
      "source": [
        "class RBF(Layer):\n",
        "  def __init__(self, units):\n",
        "    self.units = units\n",
        "    self.weights = []\n",
        "\n",
        "  def initialise_weights(self, input_shape):\n",
        "    self.weights = cp.random.rand(self.units, input_shape[0] + 1)\n",
        "    return (self.units,1)\n",
        "\n",
        "  def forward(self, x):\n",
        "    x = x.reshape((-1,1))\n",
        "    out = self.weights - x.T\n",
        "    out = cp.square(out)\n",
        "    out = np.sum(out, axis = 1)\n",
        "    return out\n",
        "\n",
        "  def backward(self):\n",
        "    pass"
      ],
      "execution_count": 11,
      "outputs": []
    },
    {
      "cell_type": "code",
      "metadata": {
        "id": "8DLtCphJrBhE"
      },
      "source": [
        "# a = MaxPool(3)"
      ],
      "execution_count": 12,
      "outputs": []
    },
    {
      "cell_type": "code",
      "metadata": {
        "id": "rtCrpfKLWvXV"
      },
      "source": [
        "# a.forward(cp.array(cp.zeros((4,4,2))))"
      ],
      "execution_count": 13,
      "outputs": []
    },
    {
      "cell_type": "code",
      "metadata": {
        "id": "kJgNPi1pvLqs"
      },
      "source": [
        "# f = Flatten()"
      ],
      "execution_count": 14,
      "outputs": []
    },
    {
      "cell_type": "code",
      "metadata": {
        "id": "Styni_8ZvOh1"
      },
      "source": [
        "# f.forward(cp.array(cp.zeros((4,4,2))))"
      ],
      "execution_count": 15,
      "outputs": []
    },
    {
      "cell_type": "code",
      "metadata": {
        "id": "jbC2DmolWvhn"
      },
      "source": [
        "class Model:\n",
        "  def __init__(self):\n",
        "    self.layers = []\n",
        "\n",
        "  def add(self, layer):\n",
        "    self.layers.append(layer)\n",
        "\n",
        "  def compile(self, x_shape, y_shape, print_shapes = False):\n",
        "    input_shape = x_shape\n",
        "    for layer in self.layers:\n",
        "      if print_shapes:\n",
        "        print(input_shape, layer)\n",
        "      input_shape = layer.initialise_weights(input_shape)\n",
        "\n",
        "    if print_shapes:\n",
        "      print(\"Output\", input_shape)\n",
        "      \n",
        "    if input_shape == y_shape:\n",
        "      print(\"The layers fit correctly\")\n",
        "    else:\n",
        "      print(\"The layers don't fit correctly\")\n",
        "     \n",
        "\n",
        "  def fit(self, x_train, y_train, epochs, validation_data):\n",
        "    for epoch in range(epochs):\n",
        "      layer_in = x_train\n",
        "      outputs = [layer]\n",
        "\n",
        "      for layer in self.layers:\n",
        "        layer_in = layer.forward(layer_in)\n",
        "    \n",
        "    print(\"Model Trained\")\n",
        "\n",
        "  def test(self, x_test):\n",
        "    outputs = []\n",
        "\n",
        "    for x in x_test:\n",
        "      layer_in = x\n",
        "      for layer in self.layers:\n",
        "        layer_in = layer.forward(layer_in)\n",
        "      outputs.append(layer_in)\n",
        "\n",
        "    return outputs"
      ],
      "execution_count": 16,
      "outputs": []
    },
    {
      "cell_type": "code",
      "metadata": {
        "id": "T4vvdwD4WvpI"
      },
      "source": [
        "\n"
      ],
      "execution_count": 16,
      "outputs": []
    },
    {
      "cell_type": "code",
      "metadata": {
        "id": "NHWMcByIwxiC"
      },
      "source": [
        "# cp.array([[1,2], [3,4]]) * cp.array([[[1,2], [3,4]], [[1,3], [3,4]]])"
      ],
      "execution_count": 17,
      "outputs": []
    },
    {
      "cell_type": "code",
      "metadata": {
        "id": "POheJUZoxBXO"
      },
      "source": [
        "lenet = Model()\n",
        "lenet.add(Conv((5,5), 6))\n",
        "lenet.add(Subsampling(2))\n",
        "lenet.add(Conv((5,5,6), 16))\n",
        "lenet.add(Subsampling(2))\n",
        "lenet.add(Conv((5,5, 16), 120))\n",
        "lenet.add(Flatten())\n",
        "lenet.add(Fully_Connected(84))\n",
        "lenet.add(Fully_Connected(10))"
      ],
      "execution_count": 18,
      "outputs": []
    },
    {
      "cell_type": "code",
      "metadata": {
        "colab": {
          "base_uri": "https://localhost:8080/"
        },
        "id": "7Cs_8GED6RQS",
        "outputId": "7d43c587-207b-4184-a6d4-7f981a242777"
      },
      "source": [
        "lenet.compile((32,32), (10,1), True)"
      ],
      "execution_count": 19,
      "outputs": [
        {
          "output_type": "stream",
          "name": "stdout",
          "text": [
            "(32, 32) <__main__.Conv object at 0x7f258e07f250>\n",
            "(28, 28, 6) <__main__.Subsampling object at 0x7f2593b9cad0>\n",
            "(28, 28, 6)\n",
            "(14, 14, 6) <__main__.Conv object at 0x7f259418f250>\n",
            "(10, 10, 16) <__main__.Subsampling object at 0x7f258e055210>\n",
            "(10, 10, 16)\n",
            "(5, 5, 16) <__main__.Conv object at 0x7f258e055850>\n",
            "(1, 1, 120) <__main__.Flatten object at 0x7f258e055fd0>\n",
            "(120, 1) <__main__.Fully_Connected object at 0x7f258e055890>\n",
            "(84, 1) <__main__.Fully_Connected object at 0x7f258e055590>\n",
            "Output (10, 1)\n",
            "The layers fit correctly\n"
          ]
        }
      ]
    },
    {
      "cell_type": "code",
      "metadata": {
        "colab": {
          "base_uri": "https://localhost:8080/"
        },
        "id": "FMM3rVUryt2w",
        "outputId": "01c810c9-0ceb-43e4-aeec-55099f0c6894"
      },
      "source": [
        "pip install python-mnist"
      ],
      "execution_count": 20,
      "outputs": [
        {
          "output_type": "stream",
          "name": "stdout",
          "text": [
            "Collecting python-mnist\n",
            "  Downloading python_mnist-0.7-py2.py3-none-any.whl (9.6 kB)\n",
            "Installing collected packages: python-mnist\n",
            "Successfully installed python-mnist-0.7\n"
          ]
        }
      ]
    },
    {
      "cell_type": "code",
      "metadata": {
        "colab": {
          "base_uri": "https://localhost:8080/",
          "height": 336
        },
        "id": "Gfs5Ron96ZF6",
        "outputId": "8b642a12-2f8d-4b22-e367-6bd104354199"
      },
      "source": [
        "from mnist import MNIST\n",
        "\n",
        "mndata = MNIST('samples')\n",
        "\n",
        "images, labels = mndata.load_training()"
      ],
      "execution_count": 21,
      "outputs": [
        {
          "output_type": "error",
          "ename": "FileNotFoundError",
          "evalue": "ignored",
          "traceback": [
            "\u001b[0;31m---------------------------------------------------------------------------\u001b[0m",
            "\u001b[0;31mFileNotFoundError\u001b[0m                         Traceback (most recent call last)",
            "\u001b[0;32m<ipython-input-21-eaddfdb6f229>\u001b[0m in \u001b[0;36m<module>\u001b[0;34m()\u001b[0m\n\u001b[1;32m      3\u001b[0m \u001b[0mmndata\u001b[0m \u001b[0;34m=\u001b[0m \u001b[0mMNIST\u001b[0m\u001b[0;34m(\u001b[0m\u001b[0;34m'samples'\u001b[0m\u001b[0;34m)\u001b[0m\u001b[0;34m\u001b[0m\u001b[0;34m\u001b[0m\u001b[0m\n\u001b[1;32m      4\u001b[0m \u001b[0;34m\u001b[0m\u001b[0m\n\u001b[0;32m----> 5\u001b[0;31m \u001b[0mimages\u001b[0m\u001b[0;34m,\u001b[0m \u001b[0mlabels\u001b[0m \u001b[0;34m=\u001b[0m \u001b[0mmndata\u001b[0m\u001b[0;34m.\u001b[0m\u001b[0mload_training\u001b[0m\u001b[0;34m(\u001b[0m\u001b[0;34m)\u001b[0m\u001b[0;34m\u001b[0m\u001b[0;34m\u001b[0m\u001b[0m\n\u001b[0m",
            "\u001b[0;32m/usr/local/lib/python3.7/dist-packages/mnist/loader.py\u001b[0m in \u001b[0;36mload_training\u001b[0;34m(self)\u001b[0m\n\u001b[1;32m    124\u001b[0m     \u001b[0;32mdef\u001b[0m \u001b[0mload_training\u001b[0m\u001b[0;34m(\u001b[0m\u001b[0mself\u001b[0m\u001b[0;34m)\u001b[0m\u001b[0;34m:\u001b[0m\u001b[0;34m\u001b[0m\u001b[0;34m\u001b[0m\u001b[0m\n\u001b[1;32m    125\u001b[0m         ims, labels = self.load(os.path.join(self.path, self.train_img_fname),\n\u001b[0;32m--> 126\u001b[0;31m                                 os.path.join(self.path, self.train_lbl_fname))\n\u001b[0m\u001b[1;32m    127\u001b[0m \u001b[0;34m\u001b[0m\u001b[0m\n\u001b[1;32m    128\u001b[0m         \u001b[0mself\u001b[0m\u001b[0;34m.\u001b[0m\u001b[0mtrain_images\u001b[0m \u001b[0;34m=\u001b[0m \u001b[0mself\u001b[0m\u001b[0;34m.\u001b[0m\u001b[0mprocess_images\u001b[0m\u001b[0;34m(\u001b[0m\u001b[0mims\u001b[0m\u001b[0;34m)\u001b[0m\u001b[0;34m\u001b[0m\u001b[0;34m\u001b[0m\u001b[0m\n",
            "\u001b[0;32m/usr/local/lib/python3.7/dist-packages/mnist/loader.py\u001b[0m in \u001b[0;36mload\u001b[0;34m(self, path_img, path_lbl, batch)\u001b[0m\n\u001b[1;32m    245\u001b[0m                                  '(start_point, batch_size)')\n\u001b[1;32m    246\u001b[0m \u001b[0;34m\u001b[0m\u001b[0m\n\u001b[0;32m--> 247\u001b[0;31m         \u001b[0;32mwith\u001b[0m \u001b[0mself\u001b[0m\u001b[0;34m.\u001b[0m\u001b[0mopener\u001b[0m\u001b[0;34m(\u001b[0m\u001b[0mpath_lbl\u001b[0m\u001b[0;34m,\u001b[0m \u001b[0;34m'rb'\u001b[0m\u001b[0;34m)\u001b[0m \u001b[0;32mas\u001b[0m \u001b[0mfile\u001b[0m\u001b[0;34m:\u001b[0m\u001b[0;34m\u001b[0m\u001b[0;34m\u001b[0m\u001b[0m\n\u001b[0m\u001b[1;32m    248\u001b[0m             \u001b[0mmagic\u001b[0m\u001b[0;34m,\u001b[0m \u001b[0msize\u001b[0m \u001b[0;34m=\u001b[0m \u001b[0mstruct\u001b[0m\u001b[0;34m.\u001b[0m\u001b[0munpack\u001b[0m\u001b[0;34m(\u001b[0m\u001b[0;34m\">II\"\u001b[0m\u001b[0;34m,\u001b[0m \u001b[0mfile\u001b[0m\u001b[0;34m.\u001b[0m\u001b[0mread\u001b[0m\u001b[0;34m(\u001b[0m\u001b[0;36m8\u001b[0m\u001b[0;34m)\u001b[0m\u001b[0;34m)\u001b[0m\u001b[0;34m\u001b[0m\u001b[0;34m\u001b[0m\u001b[0m\n\u001b[1;32m    249\u001b[0m             \u001b[0;32mif\u001b[0m \u001b[0mmagic\u001b[0m \u001b[0;34m!=\u001b[0m \u001b[0;36m2049\u001b[0m\u001b[0;34m:\u001b[0m\u001b[0;34m\u001b[0m\u001b[0;34m\u001b[0m\u001b[0m\n",
            "\u001b[0;32m/usr/local/lib/python3.7/dist-packages/mnist/loader.py\u001b[0m in \u001b[0;36mopener\u001b[0;34m(self, path_fn, *args, **kwargs)\u001b[0m\n\u001b[1;32m    237\u001b[0m             \u001b[0;32mreturn\u001b[0m \u001b[0mgzip\u001b[0m\u001b[0;34m.\u001b[0m\u001b[0mopen\u001b[0m\u001b[0;34m(\u001b[0m\u001b[0mpath_fn\u001b[0m \u001b[0;34m+\u001b[0m \u001b[0;34m'.gz'\u001b[0m\u001b[0;34m,\u001b[0m \u001b[0;34m*\u001b[0m\u001b[0margs\u001b[0m\u001b[0;34m,\u001b[0m \u001b[0;34m**\u001b[0m\u001b[0mkwargs\u001b[0m\u001b[0;34m)\u001b[0m\u001b[0;34m\u001b[0m\u001b[0;34m\u001b[0m\u001b[0m\n\u001b[1;32m    238\u001b[0m         \u001b[0;32melse\u001b[0m\u001b[0;34m:\u001b[0m\u001b[0;34m\u001b[0m\u001b[0;34m\u001b[0m\u001b[0m\n\u001b[0;32m--> 239\u001b[0;31m             \u001b[0;32mreturn\u001b[0m \u001b[0mopen\u001b[0m\u001b[0;34m(\u001b[0m\u001b[0mpath_fn\u001b[0m\u001b[0;34m,\u001b[0m \u001b[0;34m*\u001b[0m\u001b[0margs\u001b[0m\u001b[0;34m,\u001b[0m \u001b[0;34m**\u001b[0m\u001b[0mkwargs\u001b[0m\u001b[0;34m)\u001b[0m\u001b[0;34m\u001b[0m\u001b[0;34m\u001b[0m\u001b[0m\n\u001b[0m\u001b[1;32m    240\u001b[0m \u001b[0;34m\u001b[0m\u001b[0m\n\u001b[1;32m    241\u001b[0m     \u001b[0;32mdef\u001b[0m \u001b[0mload\u001b[0m\u001b[0;34m(\u001b[0m\u001b[0mself\u001b[0m\u001b[0;34m,\u001b[0m \u001b[0mpath_img\u001b[0m\u001b[0;34m,\u001b[0m \u001b[0mpath_lbl\u001b[0m\u001b[0;34m,\u001b[0m \u001b[0mbatch\u001b[0m\u001b[0;34m=\u001b[0m\u001b[0;32mNone\u001b[0m\u001b[0;34m)\u001b[0m\u001b[0;34m:\u001b[0m\u001b[0;34m\u001b[0m\u001b[0;34m\u001b[0m\u001b[0m\n",
            "\u001b[0;31mFileNotFoundError\u001b[0m: [Errno 2] No such file or directory: 'samples/train-labels-idx1-ubyte'"
          ]
        }
      ]
    },
    {
      "cell_type": "code",
      "metadata": {
        "id": "8kJg7HDoy2G7"
      },
      "source": [
        ""
      ],
      "execution_count": null,
      "outputs": []
    }
  ]
}