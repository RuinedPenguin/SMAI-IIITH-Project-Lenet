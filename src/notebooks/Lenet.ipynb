{
 "cells": [
  {
   "cell_type": "code",
   "execution_count": 1,
   "id": "f49d8a78",
   "metadata": {},
   "outputs": [],
   "source": [
    "from tqdm import tqdm\n",
    "import os , sys"
   ]
  },
  {
   "cell_type": "code",
   "execution_count": 2,
   "id": "20cd4ac1",
   "metadata": {},
   "outputs": [],
   "source": [
    "# for local imports, comment in colab if required\n",
    "root = os.getcwd()\n",
    "sys.path.append(root[: root.rindex('src')+4]+'scripts/')"
   ]
  },
  {
   "cell_type": "code",
   "execution_count": 3,
   "id": "a2255c79",
   "metadata": {},
   "outputs": [],
   "source": [
    "import model as lenet_utils\n",
    "import numpy as np \n",
    "import matplotlib.pyplot as plt\n",
    "import matplotlib.image as mpimg\n",
    "import matplotlib as mpl\n",
    "import struct\n",
    "import time"
   ]
  },
  {
   "cell_type": "markdown",
   "id": "34cdd155-99cc-4759-80a7-506f5f326da8",
   "metadata": {},
   "source": [
    "## Dataset"
   ]
  },
  {
   "cell_type": "code",
   "execution_count": 4,
   "id": "e03454dc-de7c-434a-875b-dbed3dea9016",
   "metadata": {},
   "outputs": [],
   "source": [
    "# read the images and labels\n",
    "def readDataset(dataset):\n",
    "    (image, label) = dataset\n",
    "    with open(label, 'rb') as flbl:\n",
    "        magic, num = struct.unpack(\">II\", flbl.read(8))\n",
    "        lbl = np.fromfile(flbl, dtype=np.int8)\n",
    "\n",
    "    with open(image, 'rb') as fimg:\n",
    "        magic, num, rows, cols = struct.unpack(\">IIII\", fimg.read(16))\n",
    "        img = np.fromfile(fimg, dtype=np.uint8).reshape(len(lbl), rows, cols)\n",
    "\n",
    "    return (img, lbl)"
   ]
  },
  {
   "cell_type": "code",
   "execution_count": 5,
   "id": "efa6101f",
   "metadata": {},
   "outputs": [],
   "source": [
    "# the path of the dataset\n",
    "test_image_path = r'../../MNIST/t10k-images-idx3-ubyte'\n",
    "test_label_path = r'../../MNIST/t10k-labels-idx1-ubyte'\n",
    "train_image_path = r'../../MNIST/train-images-idx3-ubyte'\n",
    "train_label_path = r'../../MNIST/train-labels-idx1-ubyte'\n",
    "training_set = (train_image_path, train_label_path)\n",
    "test_set = (test_image_path, test_label_path)"
   ]
  },
  {
   "cell_type": "code",
   "execution_count": 6,
   "id": "b88f9f18",
   "metadata": {},
   "outputs": [
    {
     "name": "stdout",
     "output_type": "stream",
     "text": [
      "The shape of training images dataset: (60000, 28, 28)\n",
      "The shape of testing images dataset:  (10000, 28, 28)\n",
      "Length of the training set:  60000\n",
      "Length of the test set:  10000\n",
      "Shape of a single image:  (28, 28)\n"
     ]
    }
   ],
   "source": [
    "# read the dataset with readDataset()\n",
    "(train_images, train_labels) = readDataset(training_set)\n",
    "(test_images, test_labels) = readDataset(test_set)\n",
    "n_m, n_m_test = len(train_labels), len(test_labels)\n",
    "print(\"The shape of training images dataset:\", train_images.shape)\n",
    "print(\"The shape of testing images dataset: \", test_images.shape)\n",
    "print(\"Length of the training set: \", n_m)\n",
    "print(\"Length of the test set: \", n_m_test)\n",
    "print(\"Shape of a single image: \", train_images[0].shape)"
   ]
  },
  {
   "cell_type": "markdown",
   "id": "d42f340e",
   "metadata": {},
   "source": [
    "### Normalization"
   ]
  },
  {
   "cell_type": "code",
   "execution_count": 7,
   "id": "1cbd8953-9cbb-4813-a884-cc7656807bb1",
   "metadata": {},
   "outputs": [],
   "source": [
    "# normalization of the input images\n",
    "def normalize(image):\n",
    "    image -= image.min()\n",
    "    image = image / image.max()\n",
    "    # range = [-0.1,1.175]   \n",
    "    image = image * 1.275 - 0.1\n",
    "    return image"
   ]
  },
  {
   "cell_type": "code",
   "execution_count": 8,
   "id": "c8c010d8",
   "metadata": {},
   "outputs": [
    {
     "name": "stdout",
     "output_type": "stream",
     "text": [
      "The shape of training image with padding: (60000, 32, 32, 1)\n",
      "The shape of testing image with padding:  (10000, 32, 32, 1)\n",
      "num of train labels (60000,)\n",
      "num of test labels (10000,)\n"
     ]
    }
   ],
   "source": [
    "X = normalize(lenet_utils.zero_pad(train_images[:,:,:,np.newaxis], 2))\n",
    "X_test  = normalize(lenet_utils.zero_pad(test_images[:,:,:,np.newaxis],  2))\n",
    "y = train_labels\n",
    "y_test = test_labels\n",
    "print(\"The shape of training image with padding:\", X.shape)\n",
    "print(\"The shape of testing image with padding: \", X_test.shape)\n",
    "print(\"num of train labels\", y.shape)\n",
    "print(\"num of test labels\", y_test.shape)"
   ]
  },
  {
   "cell_type": "code",
   "execution_count": 9,
   "id": "8fac6cbe-8152-470d-9f23-027b4f4900c9",
   "metadata": {},
   "outputs": [
    {
     "data": {
      "text/plain": [
       "<matplotlib.image.AxesImage at 0x12fc0c640>"
      ]
     },
     "execution_count": 9,
     "metadata": {},
     "output_type": "execute_result"
    },
    {
     "data": {
      "image/png": "[encoded data removed]",
      "text/plain": [
       "<Figure size 432x288 with 1 Axes>"
      ]
     },
     "metadata": {
      "needs_background": "light"
     },
     "output_type": "display_data"
    }
   ],
   "source": [
    "plt.imshow(X[0,:,:,0], cmap = 'gray')"
   ]
  },
  {
   "cell_type": "markdown",
   "id": "8c1d8580",
   "metadata": {},
   "source": [
    "### Train-Val Split"
   ]
  },
  {
   "cell_type": "code",
   "execution_count": 19,
   "id": "3436f373",
   "metadata": {},
   "outputs": [],
   "source": [
    "def train_test_split(X, y, ratio = 0.1):\n",
    "    indices = list(np.random.choice(X.shape[0] , int(X.shape[0] * ratio), replace=False))\n",
    "    left_over = list(set(range(X.shape[0])) - set(indices))\n",
    "    return X[left_over, :, :, :], X[indices, : , :, :], y[left_over], y[indices]\n",
    "    pass"
   ]
  },
  {
   "cell_type": "code",
   "execution_count": 20,
   "id": "102b9db8",
   "metadata": {},
   "outputs": [
    {
     "name": "stdout",
     "output_type": "stream",
     "text": [
      "(54000, 32, 32, 1) (6000, 32, 32, 1) (54000,) (6000,)\n"
     ]
    }
   ],
   "source": [
    "x_train, x_val, y_train, y_val = train_test_split(X, y, 0.1)\n",
    "print(x_train.shape, x_val.shape, y_train.shape, y_val.shape)"
   ]
  },
  {
   "cell_type": "markdown",
   "id": "40f6a9b5-8026-4a03-91cb-92afa93bb6fb",
   "metadata": {},
   "source": [
    "## Lenet"
   ]
  },
  {
   "cell_type": "markdown",
   "id": "4963faec-9868-4921-905b-928b1691514b",
   "metadata": {},
   "source": [
    "---"
   ]
  },
  {
   "cell_type": "code",
   "execution_count": 21,
   "id": "8e03c8c6",
   "metadata": {},
   "outputs": [
    {
     "name": "stdout",
     "output_type": "stream",
     "text": [
      "\t\t-------Lenet-------\t\t\n",
      "+--------------+-----------------------------------------+--------------+----------------+\n",
      "| in           | Name (weight, bias)                     | out          |   total_params |\n",
      "|--------------+-----------------------------------------+--------------+----------------|\n",
      "| (32, 32, 1)  | CONV2D((5, 5, 1, 6), (1, 1, 1, 6))      | (28, 28, 6)  |            156 |\n",
      "| (28, 28, 6)  | Activation(relu)                        | (28, 28, 6)  |              0 |\n",
      "| (28, 28, 6)  | SubSample((1, 1, 1, 6), (1, 1, 1, 6))   | (14, 14, 6)  |             12 |\n",
      "| (14, 14, 6)  | CONV2D((5, 5, 6, 16), (1, 1, 1, 16))    | (10, 10, 16) |           2416 |\n",
      "| (10, 10, 16) | Activation(relu)                        | (10, 10, 16) |              0 |\n",
      "| (10, 10, 16) | SubSample((1, 1, 1, 16), (1, 1, 1, 16)) | (5, 5, 16)   |             32 |\n",
      "| (5, 5, 16)   | CONV2D((5, 5, 16, 120), (1, 1, 1, 120)) | (1, 1, 120)  |          48120 |\n",
      "| (1, 1, 120)  | Activation(relu)                        | (1, 1, 120)  |              0 |\n",
      "| (1, 1, 120)  | Dense((120, 84), (84,))                 | (84, 1)      |          10164 |\n",
      "| (84, 1)      | Activation(relu)                        | (84, 1)      |              0 |\n",
      "| (84, 1)      | RBF(10, 84)                             | (1, 1)       |            840 |\n",
      "+--------------+-----------------------------------------+--------------+----------------+\n",
      "Total Number of parameters = 61740\n"
     ]
    }
   ],
   "source": [
    "np.random.seed(10)\n",
    "model = lenet_utils.Lenet_SMAI()\n",
    "model.summary()\n",
    "model.compile_adam()"
   ]
  },
  {
   "cell_type": "code",
   "execution_count": 22,
   "id": "a94a2870",
   "metadata": {},
   "outputs": [],
   "source": [
    "# batch_size = 32\n",
    "# itr = 500\n",
    "# st = time.time()\n",
    "# img, label = np.random.rand(batch_size, 32, 32, 1), np.random.randint(0, 10,(batch_size,))\n",
    "# for i in range(itr):\n",
    "#     loss = model(img, label)\n",
    "#     print(loss)\n",
    "#     grads = model.compute_gradients()\n",
    "#     model.apply_gradients(grads)\n",
    "# print(f\"accuracy : {np.count_nonzero(model(img, mode='test') == label) / batch_size}\")\n",
    "# print(f'took {time.time() - st} for {itr} batch steps of size {batch_size}, 1 prediction')"
   ]
  },
  {
   "cell_type": "markdown",
   "id": "d9733deb",
   "metadata": {},
   "source": [
    "### Visualization"
   ]
  },
  {
   "cell_type": "code",
   "execution_count": 23,
   "id": "5c6df9c9",
   "metadata": {},
   "outputs": [],
   "source": [
    "from IPython import display as ipythondisplay\n",
    "from matplotlib.pyplot import figure\n",
    "import time\n",
    "class PeriodicPlotter:\n",
    "  def __init__(self, sec, xlabel='', ylabel='', scale=None, figsize = (8,6)):\n",
    "\n",
    "    self.xlabel = xlabel\n",
    "    self.ylabel = ylabel\n",
    "    self.sec = sec\n",
    "    self.scale = scale\n",
    "    self.figsize = figsize\n",
    "\n",
    "    self.tic = time.time()\n",
    "\n",
    "  def plot(self, data, epoch):\n",
    "    if time.time() - self.tic > self.sec:\n",
    "      plt.cla()\n",
    "      plt.plot(data[0])\n",
    "      if len(epoch) > 0: plt.vlines(x = epoch, ymin = 0, ymax = max(data[0]))\n",
    "      if len(data[1]) > 0:\n",
    "          plt.plot(data[1])\n",
    "          plt.legend([\"train_loss\", \"val_loss\"])\n",
    "      else:\n",
    "        plt.legend([\"train_loss\"])\n",
    "      plt.ylabel(self.ylabel)\n",
    "      plt.xlabel(self.xlabel)\n",
    "      plt.tight_layout()\n",
    "      ipythondisplay.clear_output(wait=True)\n",
    "      ipythondisplay.display(plt.gcf())\n",
    "\n",
    "      self.tic = time.time()"
   ]
  },
  {
   "cell_type": "code",
   "execution_count": 24,
   "id": "322ffc3f",
   "metadata": {},
   "outputs": [],
   "source": [
    "plotter = PeriodicPlotter(xlabel='iterations', ylabel='loss', sec = 2)"
   ]
  },
  {
   "cell_type": "markdown",
   "id": "9766e42a",
   "metadata": {},
   "source": [
    "### Train"
   ]
  },
  {
   "cell_type": "code",
   "execution_count": 25,
   "id": "6e929df0",
   "metadata": {},
   "outputs": [],
   "source": [
    "epochs = 20\n",
    "batch_size = 512\n"
   ]
  },
  {
   "cell_type": "code",
   "execution_count": 26,
   "id": "730346bc",
   "metadata": {},
   "outputs": [],
   "source": [
    "def mean_val_loss(lenet_model, x_val, y_val):\n",
    "    batch_size = 512\n",
    "    return np.mean([lenet_model(x_val[i:i+batch_size, :, :, :], y_val[i:i+batch_size]) for i in range(0, x_val.shape[0], batch_size)])"
   ]
  },
  {
   "cell_type": "code",
   "execution_count": 27,
   "id": "7b1342b0",
   "metadata": {},
   "outputs": [],
   "source": [
    "def accuracy(lenet_model, x, y):\n",
    "    batch_size = 512\n",
    "    acc = []\n",
    "    for i in tqdm(range(0, x.shape[0], batch_size)):\n",
    "        pred = lenet_model(x[i:i+batch_size, :, :, :], None, 'test')\n",
    "        acc.append(np.count_nonzero(y[i:i+batch_size] == pred) / pred.shape[0])\n",
    "    return np.mean(acc)"
   ]
  },
  {
   "cell_type": "code",
   "execution_count": 28,
   "id": "19de3274",
   "metadata": {},
   "outputs": [],
   "source": [
    "history = [[],[]]"
   ]
  },
  {
   "cell_type": "code",
   "execution_count": 29,
   "id": "8f34a7ae",
   "metadata": {},
   "outputs": [
    {
     "data": {
      "image/png": "[encoded data removed]",
      "text/plain": [
       "<Figure size 432x288 with 1 Axes>"
      ]
     },
     "metadata": {},
     "output_type": "display_data"
    },
    {
     "name": "stderr",
     "output_type": "stream",
     "text": [
      "epoch = 20, train_loss = 13230.344680896753, val_loss = 12970.247682858337, val_acc = 0.9867881000905797: 100%|██████████| 106/106 [01:09<00:00,  1.52it/s]\n"
     ]
    },
    {
     "data": {
      "image/png": "[encoded data removed]",
      "text/plain": [
       "<Figure size 432x288 with 1 Axes>"
      ]
     },
     "metadata": {
      "needs_background": "light"
     },
     "output_type": "display_data"
    }
   ],
   "source": [
    "for e in range(epochs):\n",
    "    loss = []\n",
    "    k = 0\n",
    "    t = tqdm(range(0, x_train.shape[0] ,batch_size))\n",
    "    for i in t:\n",
    "        input = x_train[i : i + batch_size , :, :, :]\n",
    "        labels = y_train[i : i + batch_size]\n",
    "        loss.append(model(input, labels))\n",
    "        grads = model.compute_gradients()\n",
    "        model.apply_gradients(grads)\n",
    "        k+=1\n",
    "        if k % 20 == 0:\n",
    "            history[0].append(np.mean(loss))\n",
    "            history[1].append(mean_val_loss(model, x_val, y_val))\n",
    "            val_acc = accuracy(model, x_val, y_val)\n",
    "            t.set_description(f'epoch = {e + 1}, train_loss = {history[0][-1]}, val_loss = {history[1][-1]}, val_acc = {val_acc}')\n",
    "            loss = []\n",
    "            plotter.plot(history, [])\n",
    "    history[0].append(np.mean(loss)) \n",
    "    history[1].append(mean_val_loss(model, x_val, y_val))"
   ]
  },
  {
   "cell_type": "code",
   "execution_count": 30,
   "id": "a26714b7",
   "metadata": {},
   "outputs": [
    {
     "name": "stderr",
     "output_type": "stream",
     "text": [
      "100%|██████████| 20/20 [00:03<00:00,  6.30it/s]\n"
     ]
    },
    {
     "data": {
      "text/plain": [
       "0.9878619025735293"
      ]
     },
     "execution_count": 30,
     "metadata": {},
     "output_type": "execute_result"
    }
   ],
   "source": [
    "accuracy(model, X_test, y_test)"
   ]
  },
  {
   "cell_type": "markdown",
   "id": "64ff702d",
   "metadata": {},
   "source": [
    "Save and Load model"
   ]
  },
  {
   "cell_type": "code",
   "execution_count": 31,
   "id": "aace1a53",
   "metadata": {},
   "outputs": [],
   "source": [
    "import pickle as pk"
   ]
  },
  {
   "cell_type": "code",
   "execution_count": 32,
   "id": "e244408f",
   "metadata": {},
   "outputs": [],
   "source": [
    "def model_save(model):\n",
    "    weights = []\n",
    "    for layer in model.layers:\n",
    "        print(layer)\n",
    "        weights.append(layer.params)\n",
    "    return weights"
   ]
  },
  {
   "cell_type": "code",
   "execution_count": 33,
   "id": "3523f19c",
   "metadata": {},
   "outputs": [],
   "source": [
    "def load_weights(model, weights):\n",
    "    for i,layer in enumerate(model.layers):\n",
    "        print(layer) \n",
    "        layer.params = weights[i]"
   ]
  },
  {
   "cell_type": "code",
   "execution_count": 34,
   "id": "6b718451",
   "metadata": {},
   "outputs": [
    {
     "name": "stdout",
     "output_type": "stream",
     "text": [
      "CONV2D((5, 5, 1, 6), (1, 1, 1, 6))\n",
      "Activation(relu)\n",
      "SubSample((1, 1, 1, 6), (1, 1, 1, 6))\n",
      "CONV2D((5, 5, 6, 16), (1, 1, 1, 16))\n",
      "Activation(relu)\n",
      "SubSample((1, 1, 1, 16), (1, 1, 1, 16))\n",
      "CONV2D((5, 5, 16, 120), (1, 1, 1, 120))\n",
      "Activation(relu)\n",
      "Dense((120, 84), (84,))\n",
      "Activation(relu)\n",
      "RBF(10, 84)\n"
     ]
    }
   ],
   "source": [
    "with open('model-relu-20-512-adam.pickle', 'wb') as f:\n",
    "    pk.dump(model_save(model), f, pk.HIGHEST_PROTOCOL)"
   ]
  },
  {
   "cell_type": "code",
   "execution_count": 35,
   "id": "9cfb1d31",
   "metadata": {},
   "outputs": [
    {
     "name": "stdout",
     "output_type": "stream",
     "text": [
      "CONV2D((5, 5, 1, 6), (1, 1, 1, 6))\n",
      "Activation(relu)\n",
      "SubSample((1, 1, 1, 6), (1, 1, 1, 6))\n",
      "CONV2D((5, 5, 6, 16), (1, 1, 1, 16))\n",
      "Activation(relu)\n",
      "SubSample((1, 1, 1, 16), (1, 1, 1, 16))\n",
      "CONV2D((5, 5, 16, 120), (1, 1, 1, 120))\n",
      "Activation(relu)\n",
      "Dense((120, 84), (84,))\n",
      "Activation(relu)\n",
      "RBF(10, 84)\n"
     ]
    }
   ],
   "source": [
    "model_2 = lenet_utils.Lenet_SMAI()\n",
    "with open('model-relu-20-512-adam.pickle', 'rb') as f:\n",
    "    weights = pk.load(f)\n",
    "    load_weights(model_2, weights)"
   ]
  },
  {
   "cell_type": "code",
   "execution_count": 36,
   "id": "ae7a56dd",
   "metadata": {},
   "outputs": [
    {
     "name": "stderr",
     "output_type": "stream",
     "text": [
      "100%|██████████| 20/20 [00:02<00:00,  7.13it/s]\n"
     ]
    },
    {
     "data": {
      "text/plain": [
       "0.9878619025735293"
      ]
     },
     "execution_count": 36,
     "metadata": {},
     "output_type": "execute_result"
    }
   ],
   "source": [
    "accuracy(model_2, X_test, y_test)"
   ]
  },
  {
   "cell_type": "code",
   "execution_count": 44,
   "id": "12b6b848",
   "metadata": {},
   "outputs": [
    {
     "data": {
      "text/plain": [
       "(array([7, 2, 1, 0, 4, 1, 4, 9, 6, 9]),\n",
       " array([7, 2, 1, 0, 4, 1, 4, 9, 5, 9], dtype=int8))"
      ]
     },
     "execution_count": 44,
     "metadata": {},
     "output_type": "execute_result"
    }
   ],
   "source": [
    "model_2(X_test[:10], mode = 'test'), y_test[:10]"
   ]
  }
 ],
 "metadata": {
  "kernelspec": {
   "display_name": "Python 3 (ipykernel)",
   "language": "python",
   "name": "python3"
  },
  "language_info": {
   "codemirror_mode": {
    "name": "ipython",
    "version": 3
   },
   "file_extension": ".py",
   "mimetype": "text/x-python",
   "name": "python",
   "nbconvert_exporter": "python",
   "pygments_lexer": "ipython3",
   "version": "3.10.0"
  }
 },
 "nbformat": 4,
 "nbformat_minor": 5
}
