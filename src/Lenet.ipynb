{
  "nbformat": 4,
  "nbformat_minor": 0,
  "metadata": {
    "colab": {
      "name": "Lenet.ipynb",
      "provenance": [],
      "collapsed_sections": [],
      "authorship_tag": "ABX9TyOhBpu5Dqi+qSE5INgCyGsT",
      "include_colab_link": true
    },
    "kernelspec": {
      "name": "python3",
      "display_name": "Python 3"
    },
    "language_info": {
      "name": "python"
    },
    "accelerator": "GPU"
  },
  "cells": [
    {
      "cell_type": "markdown",
      "metadata": {
        "id": "view-in-github",
        "colab_type": "text"
      },
      "source": [
        "<a href=\"https://colab.research.google.com/github/RuinedPenguin/SMAI-IIITH-Project-Lenet/blob/object-oriented-approach/src/Lenet.ipynb\" target=\"_parent\"><img src=\"https://colab.research.google.com/assets/colab-badge.svg\" alt=\"Open In Colab\"/></a>"
      ]
    },
    {
      "cell_type": "code",
      "metadata": {
        "id": "f4ZLz--mWKeo"
      },
      "source": [
        "import cupy as cp"
      ],
      "execution_count": 6,
      "outputs": []
    },
    {
      "cell_type": "code",
      "metadata": {
        "id": "gIBwhswFeciT"
      },
      "source": [
        "from abc import ABC, abstractmethod"
      ],
      "execution_count": 12,
      "outputs": []
    },
    {
      "cell_type": "code",
      "metadata": {
        "id": "D4uKoBvUWXxS"
      },
      "source": [
        ""
      ],
      "execution_count": null,
      "outputs": []
    },
    {
      "cell_type": "markdown",
      "metadata": {
        "id": "-uozsaFoWgLL"
      },
      "source": [
        "## **Lenet**"
      ]
    },
    {
      "cell_type": "code",
      "metadata": {
        "id": "7n3fxvn2bPe4"
      },
      "source": [
        "class Layer(ABC):\n",
        "  weights = NotImplemented\n",
        "\n",
        "  @abstractmethod\n",
        "  def forward():\n",
        "    pass\n",
        "\n",
        "  def backward():\n",
        "    pass"
      ],
      "execution_count": 14,
      "outputs": []
    },
    {
      "cell_type": "code",
      "metadata": {
        "id": "59lEduBBWipM"
      },
      "source": [
        "class Conv(Layer):\n",
        "  def __init__(self, k, p, s):\n",
        "    self.kernel = cp."
      ],
      "execution_count": null,
      "outputs": []
    },
    {
      "cell_type": "code",
      "metadata": {
        "id": "rtCrpfKLWvXV"
      },
      "source": [
        ""
      ],
      "execution_count": null,
      "outputs": []
    },
    {
      "cell_type": "code",
      "metadata": {
        "id": "jbC2DmolWvhn"
      },
      "source": [
        "class Model:\n",
        "  def __init__():\n",
        "    self.layers = []"
      ],
      "execution_count": null,
      "outputs": []
    },
    {
      "cell_type": "code",
      "metadata": {
        "id": "T4vvdwD4WvpI"
      },
      "source": [
        "def Lenet(w_ini, epochs, ):\n"
      ],
      "execution_count": null,
      "outputs": []
    }
  ]
}