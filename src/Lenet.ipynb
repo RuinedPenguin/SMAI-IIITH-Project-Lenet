{
  "nbformat": 4,
  "nbformat_minor": 0,
  "metadata": {
    "colab": {
      "name": "Lenet.ipynb",
      "provenance": [],
      "collapsed_sections": [],
      "authorship_tag": "ABX9TyMsdebCYYTqk1Gl1P/FWoyg",
      "include_colab_link": true
    },
    "kernelspec": {
      "name": "python3",
      "display_name": "Python 3"
    },
    "language_info": {
      "name": "python"
    },
    "accelerator": "GPU"
  },
  "cells": [
    {
      "cell_type": "markdown",
      "metadata": {
        "id": "view-in-github",
        "colab_type": "text"
      },
      "source": [
        "<a href=\"https://colab.research.google.com/github/RuinedPenguin/SMAI-IIITH-Project-Lenet/blob/object-oriented-approach/src/Lenet.ipynb\" target=\"_parent\"><img src=\"https://colab.research.google.com/assets/colab-badge.svg\" alt=\"Open In Colab\"/></a>"
      ]
    },
    {
      "cell_type": "code",
      "metadata": {
        "id": "f4ZLz--mWKeo"
      },
      "source": [
        "import cupy as cp"
      ],
      "execution_count": 1,
      "outputs": []
    },
    {
      "cell_type": "code",
      "metadata": {
        "id": "gIBwhswFeciT"
      },
      "source": [
        "from abc import ABC, abstractmethod"
      ],
      "execution_count": 2,
      "outputs": []
    },
    {
      "cell_type": "code",
      "metadata": {
        "id": "D4uKoBvUWXxS"
      },
      "source": [
        "# pip install zope\n",
        "import zope.interface"
      ],
      "execution_count": 21,
      "outputs": []
    },
    {
      "cell_type": "markdown",
      "metadata": {
        "id": "-uozsaFoWgLL"
      },
      "source": [
        "## **Lenet**"
      ]
    },
    {
      "cell_type": "code",
      "metadata": {
        "id": "7n3fxvn2bPe4"
      },
      "source": [
        "class Layer(ABC):\n",
        "\n",
        "  @abstractmethod\n",
        "  def initialise_weights(self, input_shape):\n",
        "    pass\n",
        "\n",
        "  @abstractmethod\n",
        "  def forward(self, x):\n",
        "    pass\n",
        "\n",
        "  @abstractmethod\n",
        "  def backward(self):\n",
        "    pass"
      ],
      "execution_count": 3,
      "outputs": []
    },
    {
      "cell_type": "code",
      "metadata": {
        "id": "59lEduBBWipM"
      },
      "source": [
        "class Conv(Layer):\n",
        "  def __init__(self, k, c_out):\n",
        "    self.k = k\n",
        "    self.kernels = []\n",
        "    # self.p = p\n",
        "    # self.s = s\n",
        "\n",
        "  def initialise_weights(self, input_shape):\n",
        "    for i in range(self.c_out):\n",
        "      self.kernels.append(cp.random.rand(self.k))\n",
        "    return (input_shape[0] - self.k[0] + 1, \n",
        "            input_shape[1] - self.k[1] + 1, \n",
        "            self.c_out)\n",
        "\n",
        "  def forward(self, x):\n",
        "    new_h = x.shape[0] - self.k[0] + 1\n",
        "    new_w = x.shape[1] - self.k[1] + 1\n",
        "\n",
        "    # if self.c_out == 1:\n",
        "    #   return convolve(x, self.kernels[0], new_h, new_w)\n",
        "    \n",
        "    out = cp.zeros((new_h, new_w, self.c_out))\n",
        "\n",
        "    for i in range(self.c_out):\n",
        "      out[:,:,i] = convolve(x, self.kernels[i], new_h, new_w)\n",
        "\n",
        "    return out\n",
        "\n",
        "  def convolve(inp, kernel, new_h, new_w):\n",
        "    out = cp.zeros((new_h, new_w))\n",
        "\n",
        "    for i in range(new_h):\n",
        "      for j in range(new_w):\n",
        "        out[i,j] = inp[i : i +kernel.shape[0], j : j +kernel.shape[0]] * kernel\n",
        "\n",
        "    return out\n",
        "\n",
        "  def backward(self):\n",
        "    pass"
      ],
      "execution_count": 64,
      "outputs": []
    },
    {
      "cell_type": "code",
      "metadata": {
        "id": "OEXum7L6JAgO"
      },
      "source": [
        "class Pool(Layer):\n",
        "  def __init__(self, k):\n",
        "    self.k = k\n",
        "    # self.p = p\n",
        "    # self.s = s\n",
        "\n",
        "  def initialise_weights(self, input_shape):\n",
        "    if len(input_shape) == 2:\n",
        "      return (input_shape[0] // self.k, input_shape[1] // self.k)\n",
        "    \n",
        "    return (input_shape[0] // self.k, input_shape[1] // self.k, \n",
        "            input_shape[2])\n",
        "    \n",
        "\n",
        "  def forward(self, x):\n",
        "    if len(x.shape) == 2:\n",
        "      return self.pool_2d(x)\n",
        "    \n",
        "    out = cp.zeros((x.shape[0] // self.k, x.shape[1] // self.k, x.shape[2]))\n",
        "    for i in range(x.shape[2]):\n",
        "      out[:,:,i] = self.pool_2d(x[:,:,i])\n",
        "    \n",
        "    return out\n",
        "\n",
        "  def pool_2d(self, x_2d):\n",
        "    out = cp.zeros((x_2d.shape[0] // self.k, x_2d.shape[1] // self.k))\n",
        "    for i in range(out.shape[0]):\n",
        "      for j in range(out.shape[1]):\n",
        "        h = i * self.k\n",
        "        w = j * self.k\n",
        "        out[i,j] = self.pooling_function(x_2d[h:h+self.k, w:w+self.k])\n",
        "\n",
        "    return out\n",
        "\n",
        "  @abstractmethod\n",
        "  def pooling_function(self, matrix):\n",
        "    pass\n",
        "\n",
        "  def backward(self):\n",
        "    pass"
      ],
      "execution_count": 66,
      "outputs": []
    },
    {
      "cell_type": "code",
      "metadata": {
        "id": "XXVTDuEDBX4I"
      },
      "source": [
        "class MaxPool(Pool):\n",
        "  def __init__(self, k):\n",
        "    super().__init__(k)\n",
        "\n",
        "  def pooling_function(self, matrix):\n",
        "    return cp.max(matrix)"
      ],
      "execution_count": 48,
      "outputs": []
    },
    {
      "cell_type": "code",
      "metadata": {
        "id": "1tSRpVpABYCr"
      },
      "source": [
        "class Flatten(Layer):\n",
        "  def initialise_weights(self, input_shape):\n",
        "    out_shape = 1\n",
        "    for i in input_shape:\n",
        "    out_shape *= i\n",
        "    return out_shape    # returns int\n",
        "\n",
        "  def forward(self, x):\n",
        "    return x.reshape((-1,1))\n",
        "\n",
        "  def backward(self):\n",
        "    pass"
      ],
      "execution_count": 60,
      "outputs": []
    },
    {
      "cell_type": "code",
      "metadata": {
        "id": "MEfQLF8OwWTX"
      },
      "source": [
        "class Fully_Connected(Layer):\n",
        "  def __init__(self, units):\n",
        "    self.units = units\n",
        "    self.weights\n",
        "\n",
        "  def initialise_weights(self, input_shape):\n",
        "    self.weights = cp.random.rand((input_shape, self.units))\n",
        "    return self.units    # returns int\n",
        "\n",
        "  def forward(self, x):\n",
        "    return cp.dot(weights, x)\n",
        "\n",
        "  def backward(self):\n",
        "    pass"
      ],
      "execution_count": 70,
      "outputs": []
    },
    {
      "cell_type": "code",
      "metadata": {
        "id": "8DLtCphJrBhE"
      },
      "source": [
        "a = MaxPool(3)"
      ],
      "execution_count": 51,
      "outputs": []
    },
    {
      "cell_type": "code",
      "metadata": {
        "id": "rtCrpfKLWvXV",
        "colab": {
          "base_uri": "https://localhost:8080/"
        },
        "outputId": "d89daab2-03dc-4d1c-b35d-993687494fed"
      },
      "source": [
        "a.forward(cp.array(cp.zeros((4,4,2))))"
      ],
      "execution_count": 52,
      "outputs": [
        {
          "output_type": "execute_result",
          "data": {
            "text/plain": [
              "array([[[0., 0.]]])"
            ]
          },
          "metadata": {},
          "execution_count": 52
        }
      ]
    },
    {
      "cell_type": "code",
      "metadata": {
        "id": "kJgNPi1pvLqs"
      },
      "source": [
        "f = Flatten()"
      ],
      "execution_count": 61,
      "outputs": []
    },
    {
      "cell_type": "code",
      "metadata": {
        "colab": {
          "base_uri": "https://localhost:8080/"
        },
        "id": "Styni_8ZvOh1",
        "outputId": "a5bc9f18-559a-4775-85fd-953146afd5da"
      },
      "source": [
        "f.forward(cp.array(cp.zeros((4,4,2))))"
      ],
      "execution_count": 62,
      "outputs": [
        {
          "output_type": "execute_result",
          "data": {
            "text/plain": [
              "array([[0.],\n",
              "       [0.],\n",
              "       [0.],\n",
              "       [0.],\n",
              "       [0.],\n",
              "       [0.],\n",
              "       [0.],\n",
              "       [0.],\n",
              "       [0.],\n",
              "       [0.],\n",
              "       [0.],\n",
              "       [0.],\n",
              "       [0.],\n",
              "       [0.],\n",
              "       [0.],\n",
              "       [0.],\n",
              "       [0.],\n",
              "       [0.],\n",
              "       [0.],\n",
              "       [0.],\n",
              "       [0.],\n",
              "       [0.],\n",
              "       [0.],\n",
              "       [0.],\n",
              "       [0.],\n",
              "       [0.],\n",
              "       [0.],\n",
              "       [0.],\n",
              "       [0.],\n",
              "       [0.],\n",
              "       [0.],\n",
              "       [0.]])"
            ]
          },
          "metadata": {},
          "execution_count": 62
        }
      ]
    },
    {
      "cell_type": "code",
      "metadata": {
        "id": "jbC2DmolWvhn"
      },
      "source": [
        "class Model:\n",
        "  def __init__():\n",
        "    self.layers = []\n",
        "\n",
        "  def addLayer(self, layer):\n",
        "    self.layers.append(layer)\n",
        "\n",
        "  def compile(self, x_shape, y_shape):\n",
        "    input_shape = x_shape\n",
        "    for layer in self.layers:\n",
        "      input_shape = layer.initialise_weights(x_shape)\n",
        "\n",
        "    if input_shape == y_shape:\n",
        "      print(\"The layers fit correctly\")\n",
        "    else:\n",
        "      print(\"The layers don't fit correctly\")\n",
        "     \n",
        "\n",
        "  def fit(self, x_train, y_train, epochs, validation_data):\n",
        "    for epoch in range(epochs):\n",
        "      layer_in = x_train\n",
        "\n",
        "      for layer in self.layers:\n",
        "        layer_in = layer.forward(layer_in)\n",
        "    return layer_in"
      ],
      "execution_count": 71,
      "outputs": []
    },
    {
      "cell_type": "code",
      "metadata": {
        "id": "T4vvdwD4WvpI"
      },
      "source": [
        "\n"
      ],
      "execution_count": null,
      "outputs": []
    },
    {
      "cell_type": "code",
      "metadata": {
        "colab": {
          "base_uri": "https://localhost:8080/"
        },
        "id": "NHWMcByIwxiC",
        "outputId": "cda0c8bf-a50e-4f9d-85fa-a36f39a7bc9d"
      },
      "source": [
        "cp.array([[1,2], [3,4]]) * cp.array([[[1,2], [3,4]], [[1,3], [3,4]]])"
      ],
      "execution_count": 69,
      "outputs": [
        {
          "output_type": "execute_result",
          "data": {
            "text/plain": [
              "array([[[ 1,  4],\n",
              "        [ 9, 16]],\n",
              "\n",
              "       [[ 1,  6],\n",
              "        [ 9, 16]]])"
            ]
          },
          "metadata": {},
          "execution_count": 69
        }
      ]
    },
    {
      "cell_type": "code",
      "metadata": {
        "id": "POheJUZoxBXO"
      },
      "source": [
        ""
      ],
      "execution_count": null,
      "outputs": []
    }
  ]
}