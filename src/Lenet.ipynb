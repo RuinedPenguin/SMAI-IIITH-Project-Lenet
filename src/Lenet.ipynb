{
 "cells": [
  {
   "cell_type": "code",
   "execution_count": 1,
   "metadata": {
    "id": "f4ZLz--mWKeo"
   },
   "outputs": [],
   "source": [
    "# import cupy as cp\n",
    "# when gpu"
   ]
  },
  {
   "cell_type": "code",
   "execution_count": 2,
   "metadata": {
    "id": "Wpl18ZkLxMln"
   },
   "outputs": [],
   "source": [
    "import numpy as cp\n",
    "# when cpu"
   ]
  },
  {
   "cell_type": "code",
   "execution_count": 3,
   "metadata": {
    "id": "gIBwhswFeciT"
   },
   "outputs": [],
   "source": [
    "from abc import ABC, abstractmethod"
   ]
  },
  {
   "cell_type": "code",
   "execution_count": 4,
   "metadata": {
    "id": "D4uKoBvUWXxS"
   },
   "outputs": [],
   "source": [
    "# pip install zope\n",
    "# import zope.interface"
   ]
  },
  {
   "cell_type": "code",
   "execution_count": 5,
   "metadata": {
    "id": "HAYa-YVZZBgK"
   },
   "outputs": [],
   "source": [
    "# cp.vstack((cp.array([[1,0,0]]).T, 1))"
   ]
  },
  {
   "cell_type": "markdown",
   "metadata": {
    "id": "-uozsaFoWgLL"
   },
   "source": [
    "## **Lenet**"
   ]
  },
  {
   "cell_type": "code",
   "execution_count": 6,
   "metadata": {
    "id": "7n3fxvn2bPe4"
   },
   "outputs": [],
   "source": [
    "class Layer(ABC):\n",
    "\n",
    "  @abstractmethod\n",
    "  def initialise_weights(self, input_shape):\n",
    "    pass\n",
    "\n",
    "  @abstractmethod\n",
    "  def forward(self, x):\n",
    "    pass\n",
    "\n",
    "  @abstractmethod\n",
    "  def backward(self):\n",
    "    pass"
   ]
  },
  {
   "cell_type": "code",
   "execution_count": 7,
   "metadata": {
    "id": "59lEduBBWipM"
   },
   "outputs": [],
   "source": [
    "class Conv(Layer):\n",
    "  def __init__(self, k, c_out):\n",
    "    self.k = k\n",
    "    self.c_out = c_out\n",
    "    self.kernels = []\n",
    "    # self.p = p\n",
    "    # self.s = s\n",
    "\n",
    "  def initialise_weights(self, input_shape):\n",
    "    if len(self.k) == 2:\n",
    "      h,w = self.k\n",
    "      c = 0\n",
    "    else:\n",
    "      h,w,c = self.k\n",
    "    \n",
    "    for i in range(self.c_out):\n",
    "      if (c == 0):\n",
    "        self.kernels.append(cp.random.rand(h,w))\n",
    "      else:\n",
    "        self.kernels.append(cp.random.rand(h,w,c))\n",
    "\n",
    "    return (input_shape[0] - self.k[0] + 1, \n",
    "            input_shape[1] - self.k[1] + 1, \n",
    "            self.c_out)\n",
    "\n",
    "  def forward(self, x):\n",
    "    new_h = x.shape[0] - self.k[0] + 1\n",
    "    new_w = x.shape[1] - self.k[1] + 1\n",
    "\n",
    "    # if self.c_out == 1:\n",
    "    #   return convolve(x, self.kernels[0], new_h, new_w)\n",
    "    \n",
    "    out = cp.zeros((new_h, new_w, self.c_out))\n",
    "\n",
    "    for i in range(self.c_out):\n",
    "      out[:,:,i] = convolve(x, self.kernels[i], new_h, new_w)\n",
    "\n",
    "    return out\n",
    "\n",
    "  def convolve(inp, kernel, new_h, new_w):\n",
    "    out = cp.zeros((new_h, new_w))\n",
    "\n",
    "    for i in range(new_h):\n",
    "      for j in range(new_w):\n",
    "        out[i,j] = inp[i : i +kernel.shape[0], j : j +kernel.shape[0]] * kernel\n",
    "\n",
    "    return out\n",
    "\n",
    "  def backward(self):\n",
    "    pass"
   ]
  },
  {
   "cell_type": "code",
   "execution_count": 8,
   "metadata": {
    "id": "OEXum7L6JAgO"
   },
   "outputs": [],
   "source": [
    "class Pool(Layer):\n",
    "  def __init__(self, k):\n",
    "    self.k = k\n",
    "    # self.p = p\n",
    "    # self.s = s\n",
    "\n",
    "  def initialise_weights(self, input_shape):\n",
    "    if len(input_shape) == 2:\n",
    "      return (input_shape[0] // self.k, input_shape[1] // self.k)\n",
    "    \n",
    "    return (input_shape[0] // self.k, input_shape[1] // self.k, \n",
    "            input_shape[2])\n",
    "    \n",
    "\n",
    "  def forward(self, x):\n",
    "    if len(x.shape) == 2:\n",
    "      return self.pool_2d(x)\n",
    "    \n",
    "    out = cp.zeros((x.shape[0] // self.k, x.shape[1] // self.k, x.shape[2]))\n",
    "    for i in range(x.shape[2]):\n",
    "      out[:,:,i] = self.pool_2d(x[:,:,i])\n",
    "    \n",
    "    return out\n",
    "\n",
    "  def pool_2d(self, x_2d):\n",
    "    out = cp.zeros((x_2d.shape[0] // self.k, x_2d.shape[1] // self.k))\n",
    "    for i in range(out.shape[0]):\n",
    "      for j in range(out.shape[1]):\n",
    "        h = i * self.k\n",
    "        w = j * self.k\n",
    "        out[i,j] = self.pooling_function(x_2d[h:h+self.k, w:w+self.k])\n",
    "\n",
    "    return out\n",
    "\n",
    "  @abstractmethod\n",
    "  def pooling_function(self, matrix):\n",
    "    pass\n",
    "\n",
    "  def backward(self):\n",
    "    pass"
   ]
  },
  {
   "cell_type": "code",
   "execution_count": 9,
   "metadata": {
    "id": "XFQp13qq7qqg"
   },
   "outputs": [],
   "source": [
    "class Subsampling(Pool):\n",
    "  def initialise_weights(self, input_shape):\n",
    "    n = 1 if len(input_shape) == 2 else input_shape[2]\n",
    "    self.w = cp.random.rand(n)\n",
    "    self.b = cp.random.rand(n)\n",
    "    print(input_shape)\n",
    "    return super().initialise_weights(input_shape)\n",
    "\n",
    "  def pooling_function(self, matrix):\n",
    "    return cp.sum(matrix)\n",
    "\n",
    "  def forward(self, x):\n",
    "    out = super().forward(x)\n",
    "\n",
    "    if len(out.shape) == 2:\n",
    "      return out * self.w[0] + self.b[0]\n",
    "    \n",
    "    for i in range(out.shape[2]):\n",
    "      out[:,:,i] = out[:,:,i] * self.w[i] + self.b[i]\n",
    "    \n",
    "    return out"
   ]
  },
  {
   "cell_type": "code",
   "execution_count": 10,
   "metadata": {
    "id": "XXVTDuEDBX4I"
   },
   "outputs": [],
   "source": [
    "class MaxPool(Pool):\n",
    "  def __init__(self, k):\n",
    "    super().__init__(k)\n",
    "\n",
    "  def pooling_function(self, matrix):\n",
    "    return cp.max(matrix)"
   ]
  },
  {
   "cell_type": "code",
   "execution_count": 11,
   "metadata": {
    "id": "1tKyGdlzM7Mp"
   },
   "outputs": [],
   "source": [
    "# cp.zeros((5,5,6))"
   ]
  },
  {
   "cell_type": "code",
   "execution_count": 12,
   "metadata": {
    "id": "1tSRpVpABYCr"
   },
   "outputs": [],
   "source": [
    "class Flatten(Layer):\n",
    "  def initialise_weights(self, input_shape):\n",
    "    out_shape = 1\n",
    "    for i in input_shape:\n",
    "      out_shape *= i\n",
    "    return (out_shape,1)\n",
    "\n",
    "  def forward(self, x):\n",
    "    return x.reshape((-1,1))\n",
    "\n",
    "  def backward(self):\n",
    "    pass"
   ]
  },
  {
   "cell_type": "code",
   "execution_count": 13,
   "metadata": {
    "id": "MEfQLF8OwWTX"
   },
   "outputs": [],
   "source": [
    "class Fully_Connected(Layer):\n",
    "  def __init__(self, units):\n",
    "    self.units = units\n",
    "    self.weights = []\n",
    "\n",
    "  def initialise_weights(self, input_shape):\n",
    "    self.weights = cp.random.rand(self.units, input_shape[0] + 1)\n",
    "    return (self.units,1)\n",
    "\n",
    "  def forward(self, x):\n",
    "    x = x.reshape((-1,1))\n",
    "    return cp.dot(weights, cp.vstack((x,1)))\n",
    "\n",
    "  def backward(self):\n",
    "    pass"
   ]
  },
  {
   "cell_type": "code",
   "execution_count": 14,
   "metadata": {
    "id": "2B2vqFRJlFOO"
   },
   "outputs": [],
   "source": [
    "class RBF(Layer):\n",
    "  def __init__(self, units):\n",
    "    self.units = units\n",
    "    self.weights = []\n",
    "\n",
    "  def initialise_weights(self, input_shape):\n",
    "    self.weights = cp.random.rand(self.units, input_shape[0] + 1)\n",
    "    return (self.units,1)\n",
    "\n",
    "  def forward(self, x):\n",
    "    x = x.reshape((-1,1))\n",
    "    out = self.weights - x.T\n",
    "    out = cp.square(out)\n",
    "    out = np.sum(out, axis = 1)\n",
    "    return out\n",
    "\n",
    "  def backward(self):\n",
    "    pass"
   ]
  },
  {
   "cell_type": "code",
   "execution_count": 15,
   "metadata": {
    "id": "8DLtCphJrBhE"
   },
   "outputs": [],
   "source": [
    "# a = MaxPool(3)"
   ]
  },
  {
   "cell_type": "code",
   "execution_count": 16,
   "metadata": {
    "id": "rtCrpfKLWvXV"
   },
   "outputs": [],
   "source": [
    "# a.forward(cp.array(cp.zeros((4,4,2))))"
   ]
  },
  {
   "cell_type": "code",
   "execution_count": 17,
   "metadata": {
    "id": "kJgNPi1pvLqs"
   },
   "outputs": [],
   "source": [
    "# f = Flatten()"
   ]
  },
  {
   "cell_type": "code",
   "execution_count": 18,
   "metadata": {
    "id": "Styni_8ZvOh1"
   },
   "outputs": [],
   "source": [
    "# f.forward(cp.array(cp.zeros((4,4,2))))"
   ]
  },
  {
   "cell_type": "code",
   "execution_count": 19,
   "metadata": {
    "id": "jbC2DmolWvhn"
   },
   "outputs": [],
   "source": [
    "class Model:\n",
    "  def __init__(self):\n",
    "    self.layers = []\n",
    "\n",
    "  def add(self, layer):\n",
    "    self.layers.append(layer)\n",
    "\n",
    "  def compile(self, x_shape, y_shape, print_shapes = False):\n",
    "    input_shape = x_shape\n",
    "    for layer in self.layers:\n",
    "      if print_shapes:\n",
    "        print(input_shape, layer)\n",
    "      input_shape = layer.initialise_weights(input_shape)\n",
    "\n",
    "    if print_shapes:\n",
    "      print(\"Output\", input_shape)\n",
    "      \n",
    "    if input_shape == y_shape:\n",
    "      print(\"The layers fit correctly\")\n",
    "    else:\n",
    "      print(\"The layers don't fit correctly\")\n",
    "     \n",
    "\n",
    "  def fit(self, x_train, y_train, epochs, validation_data):\n",
    "    for epoch in range(epochs):\n",
    "      layer_in = x_train\n",
    "      outputs = [layer]\n",
    "\n",
    "      for layer in self.layers:\n",
    "        layer_in = layer.forward(layer_in)\n",
    "    \n",
    "    print(\"Model Trained\")\n",
    "\n",
    "  def test(self, x_test):\n",
    "    outputs = []\n",
    "\n",
    "    for x in x_test:\n",
    "      layer_in = x\n",
    "      for layer in self.layers:\n",
    "        layer_in = layer.forward(layer_in)\n",
    "      outputs.append(layer_in)\n",
    "\n",
    "    return outputs"
   ]
  },
  {
   "cell_type": "code",
   "execution_count": null,
   "metadata": {
    "id": "T4vvdwD4WvpI"
   },
   "outputs": [],
   "source": [
    "\n"
   ]
  },
  {
   "cell_type": "code",
   "execution_count": 20,
   "metadata": {
    "id": "NHWMcByIwxiC"
   },
   "outputs": [],
   "source": [
    "# cp.array([[1,2], [3,4]]) * cp.array([[[1,2], [3,4]], [[1,3], [3,4]]])"
   ]
  },
  {
   "cell_type": "code",
   "execution_count": 21,
   "metadata": {
    "id": "POheJUZoxBXO"
   },
   "outputs": [],
   "source": [
    "lenet = Model()\n",
    "lenet.add(Conv((5,5), 6))\n",
    "lenet.add(Subsampling(2))\n",
    "lenet.add(Conv((5,5,6), 16))\n",
    "lenet.add(Subsampling(2))\n",
    "lenet.add(Conv((5,5, 16), 120))\n",
    "lenet.add(Flatten())\n",
    "lenet.add(Fully_Connected(84))\n",
    "lenet.add(Fully_Connected(10))"
   ]
  },
  {
   "cell_type": "code",
   "execution_count": 22,
   "metadata": {
    "colab": {
     "base_uri": "https://localhost:8080/"
    },
    "id": "7Cs_8GED6RQS",
    "outputId": "7d43c587-207b-4184-a6d4-7f981a242777"
   },
   "outputs": [
    {
     "name": "stdout",
     "output_type": "stream",
     "text": [
      "(32, 32) <__main__.Conv object at 0x000001C04768E3C8>\n",
      "(28, 28, 6) <__main__.Subsampling object at 0x000001C04768E4A8>\n",
      "(28, 28, 6)\n",
      "(14, 14, 6) <__main__.Conv object at 0x000001C04768E518>\n",
      "(10, 10, 16) <__main__.Subsampling object at 0x000001C04768E4E0>\n",
      "(10, 10, 16)\n",
      "(5, 5, 16) <__main__.Conv object at 0x000001C04768E588>\n",
      "(1, 1, 120) <__main__.Flatten object at 0x000001C04768E5C0>\n",
      "(120, 1) <__main__.Fully_Connected object at 0x000001C04768E5F8>\n",
      "(84, 1) <__main__.Fully_Connected object at 0x000001C04768E630>\n",
      "Output (10, 1)\n",
      "The layers fit correctly\n"
     ]
    }
   ],
   "source": [
    "lenet.compile((32,32), (10,1), True)"
   ]
  },
  {
   "cell_type": "code",
   "execution_count": 26,
   "metadata": {
    "colab": {
     "base_uri": "https://localhost:8080/"
    },
    "id": "FMM3rVUryt2w",
    "outputId": "01c810c9-0ceb-43e4-aeec-55099f0c6894"
   },
   "outputs": [],
   "source": [
    "# pip install python-mnist"
   ]
  },
  {
   "cell_type": "code",
   "execution_count": null,
   "metadata": {},
   "outputs": [],
   "source": []
  },
  {
   "cell_type": "code",
   "execution_count": 39,
   "metadata": {
    "colab": {
     "base_uri": "https://localhost:8080/",
     "height": 336
    },
    "id": "Gfs5Ron96ZF6",
    "outputId": "8b642a12-2f8d-4b22-e367-6bd104354199"
   },
   "outputs": [],
   "source": [
    "# from mnist import MNIST\n",
    "\n",
    "# mndata = MNIST('..\\MNIST_dataset')\n",
    "\n",
    "# images, labels = mndata.load_training()"
   ]
  },
  {
   "cell_type": "code",
   "execution_count": null,
   "metadata": {
    "id": "8kJg7HDoy2G7"
   },
   "outputs": [],
   "source": []
  }
 ],
 "metadata": {
  "colab": {
   "authorship_tag": "ABX9TyNvg58pG7k/SPEImkZTsdiu",
   "collapsed_sections": [],
   "include_colab_link": true,
   "name": "Lenet.ipynb",
   "provenance": []
  },
  "kernelspec": {
   "display_name": "Python 3",
   "language": "python",
   "name": "python3"
  },
  "language_info": {
   "codemirror_mode": {
    "name": "ipython",
    "version": 3
   },
   "file_extension": ".py",
   "mimetype": "text/x-python",
   "name": "python",
   "nbconvert_exporter": "python",
   "pygments_lexer": "ipython3",
   "version": "3.6.4"
  }
 },
 "nbformat": 4,
 "nbformat_minor": 4
}
