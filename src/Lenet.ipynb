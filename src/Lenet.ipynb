{
 "cells": [
  {
   "cell_type": "code",
   "execution_count": 1,
   "id": "f49d8a78",
   "metadata": {},
   "outputs": [],
   "source": [
    "# !pip install import-ipynb"
   ]
  },
  {
   "cell_type": "code",
   "execution_count": 2,
   "id": "a18c6b67",
   "metadata": {},
   "outputs": [],
   "source": [
    "import numpy as np \n",
    "import sys\n",
    "import matplotlib.pyplot as plt\n",
    "import matplotlib.image as mpimg\n",
    "import matplotlib as mpl\n",
    "import time\n",
    "import import_ipynb\n",
    "import struct\n",
    "import math\n",
    "import random"
   ]
  },
  {
   "cell_type": "markdown",
   "id": "34cdd155-99cc-4759-80a7-506f5f326da8",
   "metadata": {},
   "source": [
    "## Dataset"
   ]
  },
  {
   "cell_type": "code",
   "execution_count": 3,
   "id": "e03454dc-de7c-434a-875b-dbed3dea9016",
   "metadata": {},
   "outputs": [],
   "source": [
    "# read the images and labels\n",
    "def readDataset(dataset):\n",
    "    (image, label) = dataset\n",
    "    with open(label, 'rb') as flbl:\n",
    "        magic, num = struct.unpack(\">II\", flbl.read(8))\n",
    "        lbl = np.fromfile(flbl, dtype=np.int8)\n",
    "\n",
    "    with open(image, 'rb') as fimg:\n",
    "        magic, num, rows, cols = struct.unpack(\">IIII\", fimg.read(16))\n",
    "        img = np.fromfile(fimg, dtype=np.uint8).reshape(len(lbl), rows, cols)\n",
    "\n",
    "    return (img, lbl)"
   ]
  },
  {
   "cell_type": "code",
   "execution_count": 4,
   "id": "efa6101f",
   "metadata": {},
   "outputs": [],
   "source": [
    "# the path of the dataset\n",
    "test_image_path = r'../MNIST/t10k-images-idx3-ubyte'\n",
    "test_label_path = r'../MNIST/t10k-labels-idx1-ubyte'\n",
    "train_image_path = r'../MNIST/train-images-idx3-ubyte'\n",
    "train_label_path = r'../MNIST/train-labels-idx1-ubyte'\n",
    "training_set = (train_image_path, train_label_path)\n",
    "test_set = (test_image_path, test_label_path)"
   ]
  },
  {
   "cell_type": "code",
   "execution_count": 5,
   "id": "b88f9f18",
   "metadata": {},
   "outputs": [
    {
     "name": "stdout",
     "output_type": "stream",
     "text": [
      "The shape of training image: (60000, 28, 28)\n",
      "The shape of testing image:  (10000, 28, 28)\n",
      "Length of the training set:  60000\n",
      "Length of the training set:  10000\n",
      "Shape of a single image:  (28, 28)\n"
     ]
    }
   ],
   "source": [
    "# read the dataset with readDataset()\n",
    "(train_image, train_label) = readDataset(training_set)\n",
    "(test_image, test_label) = readDataset(test_set)\n",
    "n_m, n_m_test = len(train_label), len(test_label)\n",
    "print(\"The shape of training image:\", train_image.shape)\n",
    "print(\"The shape of testing image: \", test_image.shape)\n",
    "print(\"Length of the training set: \", n_m)\n",
    "print(\"Length of the training set: \", n_m_test)\n",
    "print(\"Shape of a single image: \", train_image[0].shape)"
   ]
  },
  {
   "cell_type": "code",
   "execution_count": 6,
   "id": "b183eefe-7248-4536-a3ce-eb6268d755cc",
   "metadata": {},
   "outputs": [
    {
     "data": {
      "text/plain": [
       "array([7, 2, 1, ..., 4, 5, 6], dtype=int8)"
      ]
     },
     "execution_count": 6,
     "metadata": {},
     "output_type": "execute_result"
    }
   ],
   "source": [
    "test_label"
   ]
  },
  {
   "cell_type": "markdown",
   "id": "d42f340e",
   "metadata": {},
   "source": [
    "### Normalization"
   ]
  },
  {
   "cell_type": "code",
   "execution_count": 7,
   "id": "1cbd8953-9cbb-4813-a884-cc7656807bb1",
   "metadata": {},
   "outputs": [],
   "source": [
    "# normalization of the input images\n",
    "def normalize(image):\n",
    "    image -= image.min()\n",
    "    image = image / image.max()\n",
    "    # range = [-0.1,1.175]   \n",
    "    image = image * 1.275 - 0.1\n",
    "    return image"
   ]
  },
  {
   "cell_type": "code",
   "execution_count": 8,
   "id": "10b44bd6-88ac-4e9c-9358-b4a0a70f3956",
   "metadata": {},
   "outputs": [],
   "source": [
    "def zero_pad(X, pad):\n",
    "    X_pad = np.pad(X, ((0, ), (pad, ), (pad, ), (0, )), 'constant', constant_values=(0, 0))    \n",
    "    return X_pad"
   ]
  },
  {
   "cell_type": "code",
   "execution_count": 9,
   "id": "c8c010d8",
   "metadata": {},
   "outputs": [
    {
     "name": "stdout",
     "output_type": "stream",
     "text": [
      "The shape of training image with padding: (60000, 32, 32, 1)\n",
      "The shape of testing image with padding:  (10000, 32, 32, 1)\n"
     ]
    }
   ],
   "source": [
    "train_image_normalized_pad = normalize(zero_pad(train_image[:,:,:,np.newaxis], 2))\n",
    "test_image_normalized_pad  = normalize(zero_pad(test_image[:,:,:,np.newaxis],  2))\n",
    "print(\"The shape of training image with padding:\", train_image_normalized_pad.shape)\n",
    "print(\"The shape of testing image with padding: \", test_image_normalized_pad.shape)"
   ]
  },
  {
   "cell_type": "code",
   "execution_count": 10,
   "id": "8fac6cbe-8152-470d-9f23-027b4f4900c9",
   "metadata": {},
   "outputs": [
    {
     "data": {
      "text/plain": [
       "<matplotlib.image.AxesImage at 0x1c66f016ef0>"
      ]
     },
     "execution_count": 10,
     "metadata": {},
     "output_type": "execute_result"
    },
    {
     "data": {
      "image/png": "[encoded data removed]",
      "text/plain": [
       "<Figure size 432x288 with 1 Axes>"
      ]
     },
     "metadata": {
      "needs_background": "light"
     },
     "output_type": "display_data"
    }
   ],
   "source": [
    "plt.imshow(train_image_normalized_pad[0,:,:,0], cmap = 'gray')"
   ]
  },
  {
   "cell_type": "markdown",
   "id": "40f6a9b5-8026-4a03-91cb-92afa93bb6fb",
   "metadata": {},
   "source": [
    "## Lenet"
   ]
  },
  {
   "cell_type": "code",
   "execution_count": 11,
   "id": "8efb9369-91b0-4dd7-9321-a672f42c276a",
   "metadata": {},
   "outputs": [
    {
     "name": "stdout",
     "output_type": "stream",
     "text": [
      "importing Jupyter notebook from Model.ipynb\n"
     ]
    }
   ],
   "source": [
    "from Model import *"
   ]
  },
  {
   "cell_type": "code",
   "execution_count": 15,
   "id": "3bb4bc76-4332-4133-8835-8ced9f571790",
   "metadata": {},
   "outputs": [],
   "source": [
    "lenet = Model()\n",
    "lenet.add(Conv((5,5), 6))\n",
    "lenet.add(Subsampling(2, Sigmoid()))\n",
    "lenet.add(Conv((5,5,6), 16))\n",
    "lenet.add(Subsampling(2))\n",
    "lenet.add(Conv((5,5,16), 120))\n",
    "lenet.add(Flatten())\n",
    "lenet.add(Fully_Connected(84, Tanh(A = 1.7159)))\n",
    "lenet.add(RBF(10, Tanh(A = 1)))"
   ]
  },
  {
   "cell_type": "code",
   "execution_count": 16,
   "id": "a14cfc9a-5942-4eeb-bebb-9b0308408d52",
   "metadata": {
    "tags": []
   },
   "outputs": [
    {
     "name": "stdout",
     "output_type": "stream",
     "text": [
      "(32, 32, 1) <Model.Conv object at 0x000001C66F0C2C18>\n",
      "Output (28, 28, 6)\n",
      "(28, 28, 6) <Model.Subsampling object at 0x000001C66F0C2630>\n",
      "Output (14, 14, 6)\n",
      "(14, 14, 6) <Model.Conv object at 0x000001C66F0C2748>\n",
      "Output (10, 10, 16)\n",
      "(10, 10, 16) <Model.Subsampling object at 0x000001C66F0C2710>\n",
      "Output (5, 5, 16)\n",
      "(5, 5, 16) <Model.Conv object at 0x000001C66F0C2780>\n",
      "Output (1, 1, 120)\n",
      "(1, 1, 120) <Model.Flatten object at 0x000001C66F0C27F0>\n",
      "Output (120, 1)\n",
      "(120, 1) <Model.Fully_Connected object at 0x000001C66F0C2898>\n",
      "Output (84, 1)\n",
      "(84, 1) <Model.RBF object at 0x000001C66F0C28D0>\n",
      "Output (10, 1)\n",
      "The layers fit correctly\n"
     ]
    }
   ],
   "source": [
    "lenet.compile((32,32,1), (10,1), True)"
   ]
  },
  {
   "cell_type": "code",
   "execution_count": 17,
   "id": "63c7749a-dd0d-403f-9466-a3c2ff1498ab",
   "metadata": {},
   "outputs": [
    {
     "data": {
      "text/plain": [
       "array([[1., 1., 1., 1., 1., 1., 1., 1., 1., 1.],\n",
       "       [1., 1., 1., 1., 1., 1., 1., 1., 1., 1.],\n",
       "       [1., 1., 1., 1., 1., 1., 1., 1., 1., 1.],\n",
       "       [1., 1., 1., 1., 1., 1., 1., 1., 1., 1.]])"
      ]
     },
     "execution_count": 17,
     "metadata": {},
     "output_type": "execute_result"
    }
   ],
   "source": [
    "lenet.test(train_image_normalized_pad[0:4])"
   ]
  },
  {
   "cell_type": "code",
   "execution_count": null,
   "id": "0ba44715-5051-4384-a369-5a9cf0ef598d",
   "metadata": {},
   "outputs": [],
   "source": []
  }
 ],
 "metadata": {
  "kernelspec": {
   "display_name": "Python 3",
   "language": "python",
   "name": "python3"
  },
  "language_info": {
   "codemirror_mode": {
    "name": "ipython",
    "version": 3
   },
   "file_extension": ".py",
   "mimetype": "text/x-python",
   "name": "python",
   "nbconvert_exporter": "python",
   "pygments_lexer": "ipython3",
   "version": "3.6.4"
  }
 },
 "nbformat": 4,
 "nbformat_minor": 5
}
